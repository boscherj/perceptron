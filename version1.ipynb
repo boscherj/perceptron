{
 "cells": [
  {
   "cell_type": "code",
   "execution_count": 44,
   "metadata": {},
   "outputs": [
    {
     "name": "stdout",
     "output_type": "stream",
     "text": [
      "[0 0]: -0.15329167469586163 -> 0\n",
      "[0 1]: 0.7029569676939804 -> 1\n",
      "[1 0]: 0.06222401797727162 -> 1\n",
      "[1 1]: 0.9184726603671136 -> 1\n"
     ]
    },
    {
     "data": {
      "text/plain": [
       "[<matplotlib.lines.Line2D at 0x106d0df60>]"
      ]
     },
     "execution_count": 44,
     "metadata": {},
     "output_type": "execute_result"
    },
    {
     "data": {
      "image/png": "[encoded data removed]",
      "text/plain": [
       "<matplotlib.figure.Figure at 0x106c7c978>"
      ]
     },
     "metadata": {},
     "output_type": "display_data"
    }
   ],
   "source": [
    "# This is a Jupyter version of the Python code found on the blog : https://blog.dbrgn.ch\n",
    "# https://blog.dbrgn.ch/2013/3/26/perceptrons-in-python/\n",
    "# Programming a Perceptron in Python\n",
    "\n",
    "# from random import choice\n",
    "from numpy import array, dot, random\n",
    "\n",
    "from pylab import plot, ylim\n",
    "\n",
    "\n",
    "# Then let's create the step function. In reference to Mathematica, I'll call this function unit_step\n",
    "unit_step = lambda x: 0 if x < 0 else 1\n",
    "\n",
    "# Next we need to map the possible input to the expected output. \n",
    "# The first two entries of the NumPy array in each tuple are the two input values. 0,0 ->(array([0,0,1]), 0)\n",
    "# The second element of the tuple is the expected result. 0 -> (array([0,0,1]), 0)\n",
    "# And the third entry of the array is a \"dummy\" input (also called the bias) which is needed to move \n",
    "# the threshold (also known as the decision boundary) up or down as needed by the step function. 1 -> (array([0,0,1]), 0)\n",
    "# Its value is always 1, so that its influence on the result can be controlled by its weight.\n",
    "# As you can see, this training sequence maps exactly to the definition of the OR function:\n",
    "\n",
    "training_data = [\n",
    "    (array([0,0,1]), 0),\n",
    "    (array([0,1,1]), 1),\n",
    "    (array([1,0,1]), 1),\n",
    "    (array([1,1,1]), 1),\n",
    "]\n",
    "\n",
    "# Next we'll choose three random numbers between 0 and 1 as the initial weights:\n",
    "w = random.rand(3)\n",
    "\n",
    "# Now on to some variable initializations. \n",
    "# The errors list is only used to store the error values so that they can be plotted later on. \n",
    "# If you don't want to do any plotting, you can just leave it away. \n",
    "# The eta variable controls the learning rate. And n specifies the number of learning iterations.\n",
    "\n",
    "# n order to find the ideal values for the weights w, we try to reduce the error magnitude to zero. \n",
    "# In this simple case n = 100 iterations are enough; for a bigger and possibly \"noisier\" set of input \n",
    "# data much larger numbers should be used.\n",
    "\n",
    "errors = []\n",
    "eta = 0.2\n",
    "n = 100\n",
    "\n",
    "# First we get a random input set from the training data. \n",
    "# Then we calculate the dot product (sometimes also called scalar product or inner product) of the input \n",
    "# and weight vectors. This is our (scalar) result, which we can compare to the expected value. \n",
    "# If the expected value is bigger, we need to increase the weights, if it's smaller, we need to decrease them. \n",
    "# This correction factor is calculated in the last line, where the error is multiplied with the \n",
    "# learning rate (eta) and the input vector (x). It is then added to the weights vector, \n",
    "# in order to improve the results in the next iteration.\n",
    "\n",
    "\n",
    "for i in range(n):\n",
    "    x, expected = choice(training_data)\n",
    "    result = dot(w, x)\n",
    "    error = expected - unit_step(result)\n",
    "    errors.append(error)\n",
    "    w += eta * error * x\n",
    "    \n",
    "\n",
    "# And that's already everything we need in order to train the perceptron! \n",
    "# It has now \"learned\" to act like a logical OR function:\n",
    "\n",
    "for x, _ in training_data:\n",
    "    result = dot(x, w)\n",
    "    print(\"{}: {} -> {}\".format(x[:2], result, unit_step(result)))\n",
    "    \n",
    "ylim([-1,1])\n",
    "plot(errors)"
   ]
  },
  {
   "cell_type": "code",
   "execution_count": null,
   "metadata": {},
   "outputs": [],
   "source": []
  },
  {
   "cell_type": "code",
   "execution_count": null,
   "metadata": {},
   "outputs": [],
   "source": []
  },
  {
   "cell_type": "code",
   "execution_count": null,
   "metadata": {},
   "outputs": [],
   "source": []
  }
 ],
 "metadata": {
  "celltoolbar": "Raw Cell Format",
  "kernelspec": {
   "display_name": "Python 3",
   "language": "python",
   "name": "python3"
  },
  "language_info": {
   "codemirror_mode": {
    "name": "ipython",
    "version": 3
   },
   "file_extension": ".py",
   "mimetype": "text/x-python",
   "name": "python",
   "nbconvert_exporter": "python",
   "pygments_lexer": "ipython3",
   "version": "3.5.2"
  }
 },
 "nbformat": 4,
 "nbformat_minor": 2
}
 
