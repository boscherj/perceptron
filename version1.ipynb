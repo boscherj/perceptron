# This is a Jupyter version of the Python code found on the blog : https://blog.dbrgn.ch
# https://blog.dbrgn.ch/2013/3/26/perceptrons-in-python/
# Programming a Perceptron in Python

# from random import choice
from numpy import array, dot, random  
